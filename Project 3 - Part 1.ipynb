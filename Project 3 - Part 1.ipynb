{
 "cells": [
  {
   "cell_type": "markdown",
   "id": "a6333099",
   "metadata": {},
   "source": [
    "# Business Problem"
   ]
  },
  {
   "cell_type": "markdown",
   "id": "914e0cc7",
   "metadata": {},
   "source": [
    "For this project, you have been hired to produce a MySQL database on Movies from a subset of IMDB's publicly available dataset. Ultimately, you will use this database to analyze what makes a movie successful and will provide recommendations to the stakeholder on how to make a successful movie.\n",
    "\n",
    "Over the course of this project, you will:\n",
    "\n",
    "- Part 1: Download several files from IMDB’s movie data set and filter out the subset of movies requested by the stakeholder.\n",
    "- Part 2: Use an API to extract box office revenue and profit data to add to your IMDB data and perform exploratory data analysis.\n",
    "- Part 3: Construct and export a MySQL database using your data.\n",
    "- Part 4: Apply hypothesis testing to explore what makes a movie successful.\n",
    "- Part 5 (Optional): Produce a Linear Regression model to predict movie performance."
   ]
  },
  {
   "cell_type": "markdown",
   "id": "887a8bcc",
   "metadata": {},
   "source": [
    "For Part 1 of the project, you will be creating your project repository, loading the official IMDB data for the requested tables, filtering out unnecessary data, and saving the filtered tables as gzip-compressed csv files (\".csv.gz\") in your repository."
   ]
  },
  {
   "cell_type": "markdown",
   "id": "9bc1fe1e",
   "metadata": {},
   "source": [
    "## Getting Started Tips:\n",
    "Please make sure to read the following lesson \"Getting Started - Project 3\" for additional tips and directions!"
   ]
  },
  {
   "cell_type": "markdown",
   "id": "eb2214a5",
   "metadata": {},
   "source": [
    "## The Data\n",
    "- IMDB Provides Several Files with varied information for Movies, TV Shows, Made for TV Movies, etc.\n",
    "\n",
    " - Overview/Data Dictionary: https://www.imdb.com/interfaces/\n",
    " - Downloads page: https://datasets.imdbws.com/\n",
    "\n",
    "\n",
    "- From their previous research, they realized they want to focus on the following files:\n",
    "\n",
    " - title.basics.tsv.gz\n",
    " - title.ratings.tsv.gz\n",
    " - title.akas.tsv.gz"
   ]
  },
  {
   "cell_type": "markdown",
   "id": "568767d3",
   "metadata": {},
   "source": [
    "## Specifications\n",
    "\n",
    "Your stakeholder only wants you to include information for movies based on the following specifications:\n",
    "\n",
    "- Exclude any movie with missing values for genre or runtime\n",
    "- Include only full-length movies (titleType = \"movie\").\n",
    "- Include only fictional movies (not from documentary genre)\n",
    "- Include only movies that were released 2000 - 2021 (include 2000 and 2021)\n",
    "- Include only movies that were released in the United States"
   ]
  },
  {
   "cell_type": "markdown",
   "id": "3e58ad14",
   "metadata": {},
   "source": [
    "## Deliverable\n",
    "After filtering out movies that do not meet the stakeholder's specifications:\n",
    "\n",
    "- Before saving, run a final .info() for each of the dataframes to show a summary of how many movies remain and the datatypes of each feature\n",
    "- Save each file to a compressed csv file \"Data/\" folder inside your repository.\n",
    "- Commit your changes to your repository in GitHub desktop and Publish repository / Push Changes.\n",
    "- Submit the link to your repository"
   ]
  },
  {
   "cell_type": "markdown",
   "id": "4a289700",
   "metadata": {},
   "source": [
    "# Imports"
   ]
  },
  {
   "cell_type": "code",
   "execution_count": 1,
   "id": "e8f6fdfc",
   "metadata": {},
   "outputs": [],
   "source": [
    "import pandas as pd\n",
    "import numpy as np\n",
    "\n",
    "pd.set_option('display.max_rows', None) "
   ]
  },
  {
   "cell_type": "markdown",
   "id": "54b3fd68",
   "metadata": {},
   "source": [
    "# Load Data"
   ]
  },
  {
   "cell_type": "code",
   "execution_count": 2,
   "id": "fce0923f",
   "metadata": {},
   "outputs": [],
   "source": [
    "# set urls for database from IMDB website\n",
    "url_basics = 'https://datasets.imdbws.com/title.basics.tsv.gz'\n",
    "url_akas = 'https://datasets.imdbws.com/title.akas.tsv.gz'\n",
    "url_ratings = 'https://datasets.imdbws.com/title.ratings.tsv.gz'"
   ]
  },
  {
   "cell_type": "code",
   "execution_count": null,
   "id": "c856afb0",
   "metadata": {
    "scrolled": true
   },
   "outputs": [],
   "source": [
    "# load data\n",
    "basics = pd.read_csv(url_basics, sep = '\\t', low_memory = False)\n",
    "akas = pd.read_csv(url_akas, sep = '\\t', low_memory = False)\n",
    "ratings = pd.read_csv(url_ratings, sep = '\\t', low_memory = False)"
   ]
  },
  {
   "cell_type": "markdown",
   "id": "8f705ca2",
   "metadata": {},
   "source": [
    "# Data Cleaning"
   ]
  },
  {
   "cell_type": "markdown",
   "id": "3a01632c",
   "metadata": {},
   "source": [
    "## Title Basics Database"
   ]
  },
  {
   "cell_type": "markdown",
   "id": "f8aa21c7",
   "metadata": {},
   "source": [
    "### Replace \"\\N\" with np.nan"
   ]
  },
  {
   "cell_type": "code",
   "execution_count": null,
   "id": "621fb565",
   "metadata": {},
   "outputs": [],
   "source": [
    "basics.isna().sum()"
   ]
  },
  {
   "cell_type": "code",
   "execution_count": null,
   "id": "10b9ff23",
   "metadata": {},
   "outputs": [],
   "source": [
    "# Missing values are nan and \\N. I wlll replace them all with nan so I can delete them. \n",
    "basics.replace({'\\\\N':np.nan}, inplace = True)\n",
    "basics.isna().sum()"
   ]
  },
  {
   "cell_type": "markdown",
   "id": "63af466e",
   "metadata": {},
   "source": [
    "### Eliminate movies that are null for runtimeMinutes"
   ]
  },
  {
   "cell_type": "code",
   "execution_count": null,
   "id": "0502106c",
   "metadata": {},
   "outputs": [],
   "source": [
    "basics.dropna(subset = ['runtimeMinutes'], axis = 0, inplace = True)\n",
    "basics.isna().sum()"
   ]
  },
  {
   "cell_type": "markdown",
   "id": "c8bd692e",
   "metadata": {},
   "source": [
    "### Eliminate movies that are null for genre"
   ]
  },
  {
   "cell_type": "code",
   "execution_count": null,
   "id": "95c167ec",
   "metadata": {},
   "outputs": [],
   "source": [
    "basics.dropna(subset = ['genres'], axis = 0, inplace = True)\n",
    "basics.isna().sum()"
   ]
  },
  {
   "cell_type": "markdown",
   "id": "c1602c8b",
   "metadata": {},
   "source": [
    "### Keep only titleType==Movie"
   ]
  },
  {
   "cell_type": "code",
   "execution_count": null,
   "id": "66c7b133",
   "metadata": {},
   "outputs": [],
   "source": [
    "basics = basics[basics['titleType'] == 'movie']\n",
    "basics['titleType'].info()"
   ]
  },
  {
   "cell_type": "code",
   "execution_count": null,
   "id": "7120b592",
   "metadata": {},
   "outputs": [],
   "source": [
    "basics.info()"
   ]
  },
  {
   "cell_type": "markdown",
   "id": "a7bd6a4c",
   "metadata": {},
   "source": [
    "### Keep startYear 2000-2022"
   ]
  },
  {
   "cell_type": "code",
   "execution_count": null,
   "id": "20b81536",
   "metadata": {},
   "outputs": [],
   "source": [
    "basics.dropna(subset = ['startYear'], axis = 0, inplace = True)\n",
    "basics['startYear'] = basics['startYear'].astype(dtype = int) \n",
    "basics = basics[(basics['startYear'] >= 2000) & (basics['startYear'] <= 2022)]\n",
    "basics['startYear'].describe()"
   ]
  },
  {
   "cell_type": "markdown",
   "id": "4c61984d",
   "metadata": {},
   "source": [
    "### Eliminate movies that include \"Documentary\" in genre"
   ]
  },
  {
   "cell_type": "code",
   "execution_count": null,
   "id": "8cbd6b4d",
   "metadata": {},
   "outputs": [],
   "source": [
    "basics['genres'].value_counts()"
   ]
  },
  {
   "cell_type": "code",
   "execution_count": null,
   "id": "797944cf",
   "metadata": {},
   "outputs": [],
   "source": [
    "is_documentary = basics['genres'].str.contains('documentary',case = False)\n",
    "basics = basics[~is_documentary]"
   ]
  },
  {
   "cell_type": "code",
   "execution_count": null,
   "id": "9238b2e6",
   "metadata": {},
   "outputs": [],
   "source": [
    "basics['genres'].value_counts()"
   ]
  },
  {
   "cell_type": "markdown",
   "id": "c4ed3cca",
   "metadata": {},
   "source": [
    "### Keep only US movies using AKAs table"
   ]
  },
  {
   "cell_type": "code",
   "execution_count": null,
   "id": "18380d69",
   "metadata": {},
   "outputs": [],
   "source": []
  },
  {
   "cell_type": "markdown",
   "id": "7568da47",
   "metadata": {},
   "source": [
    "### AKAS Database"
   ]
  },
  {
   "cell_type": "code",
   "execution_count": null,
   "id": "2e4cf6a1",
   "metadata": {
    "scrolled": true
   },
   "outputs": [],
   "source": [
    "akas.info()"
   ]
  },
  {
   "cell_type": "markdown",
   "id": "c53e437f",
   "metadata": {},
   "source": [
    "### RATINGS Database"
   ]
  },
  {
   "cell_type": "code",
   "execution_count": null,
   "id": "e5307edf",
   "metadata": {},
   "outputs": [],
   "source": [
    "ratings.info()"
   ]
  },
  {
   "cell_type": "code",
   "execution_count": null,
   "id": "74d811e9",
   "metadata": {},
   "outputs": [],
   "source": []
  }
 ],
 "metadata": {
  "kernelspec": {
   "display_name": "Python (dojo-env)",
   "language": "python",
   "name": "dojo-env"
  },
  "language_info": {
   "codemirror_mode": {
    "name": "ipython",
    "version": 3
   },
   "file_extension": ".py",
   "mimetype": "text/x-python",
   "name": "python",
   "nbconvert_exporter": "python",
   "pygments_lexer": "ipython3",
   "version": "3.9.15"
  },
  "toc": {
   "base_numbering": 1,
   "nav_menu": {},
   "number_sections": false,
   "sideBar": true,
   "skip_h1_title": false,
   "title_cell": "Table of Contents",
   "title_sidebar": "Contents",
   "toc_cell": false,
   "toc_position": {},
   "toc_section_display": true,
   "toc_window_display": true
  }
 },
 "nbformat": 4,
 "nbformat_minor": 5
}
