{
 "cells": [
  {
   "cell_type": "markdown",
   "id": "a6333099",
   "metadata": {},
   "source": [
    "# Business Problem"
   ]
  },
  {
   "cell_type": "markdown",
   "id": "914e0cc7",
   "metadata": {},
   "source": [
    "For this project, you have been hired to produce a MySQL database on Movies from a subset of IMDB's publicly available dataset. Ultimately, you will use this database to analyze what makes a movie successful and will provide recommendations to the stakeholder on how to make a successful movie.\n",
    "\n",
    "Over the course of this project, you will:\n",
    "\n",
    "- Part 1: Download several files from IMDB’s movie data set and filter out the subset of movies requested by the stakeholder.\n",
    "- Part 2: Use an API to extract box office revenue and profit data to add to your IMDB data and perform exploratory data analysis.\n",
    "- Part 3: Construct and export a MySQL database using your data.\n",
    "- Part 4: Apply hypothesis testing to explore what makes a movie successful.\n",
    "- Part 5 (Optional): Produce a Linear Regression model to predict movie performance."
   ]
  },
  {
   "cell_type": "markdown",
   "id": "887a8bcc",
   "metadata": {},
   "source": [
    "For Part 1 of the project, you will be creating your project repository, loading the official IMDB data for the requested tables, filtering out unnecessary data, and saving the filtered tables as gzip-compressed csv files (\".csv.gz\") in your repository."
   ]
  },
  {
   "cell_type": "markdown",
   "id": "eb2214a5",
   "metadata": {},
   "source": [
    "## The Data\n",
    "- IMDB Provides Several Files with varied information for Movies, TV Shows, Made for TV Movies, etc.\n",
    "\n",
    " - Overview/Data Dictionary: https://www.imdb.com/interfaces/\n",
    " - Downloads page: https://datasets.imdbws.com/\n",
    "\n",
    "\n",
    "- From their previous research, they realized they want to focus on the following files:\n",
    "\n",
    " - title.basics.tsv.gz\n",
    " - title.ratings.tsv.gz\n",
    " - title.akas.tsv.gz"
   ]
  },
  {
   "cell_type": "markdown",
   "id": "568767d3",
   "metadata": {},
   "source": [
    "## Specifications\n",
    "\n",
    "Your stakeholder only wants you to include information for movies based on the following specifications:\n",
    "\n",
    "- Exclude any movie with missing values for genre or runtime\n",
    "- Include only full-length movies (titleType = \"movie\").\n",
    "- Include only fictional movies (not from documentary genre)\n",
    "- Include only movies that were released 2000 - 2021 (include 2000 and 2021)\n",
    "- Include only movies that were released in the United States"
   ]
  },
  {
   "cell_type": "markdown",
   "id": "3e58ad14",
   "metadata": {},
   "source": [
    "## Deliverable\n",
    "After filtering out movies that do not meet the stakeholder's specifications:\n",
    "\n",
    "- Before saving, run a final .info() for each of the dataframes to show a summary of how many movies remain and the datatypes of each feature\n",
    "- Save each file to a compressed csv file \"Data/\" folder inside your repository.\n",
    "- Commit your changes to your repository in GitHub desktop and Publish repository / Push Changes.\n",
    "- Submit the link to your repository"
   ]
  },
  {
   "cell_type": "markdown",
   "id": "78ded7de",
   "metadata": {},
   "source": [
    "# Part 1: Download files from IMDB’s movie data set"
   ]
  },
  {
   "cell_type": "markdown",
   "id": "4a289700",
   "metadata": {},
   "source": [
    "## Imports"
   ]
  },
  {
   "cell_type": "code",
   "execution_count": 1,
   "id": "e8f6fdfc",
   "metadata": {},
   "outputs": [],
   "source": [
    "import pandas as pd\n",
    "import numpy as np\n",
    "\n",
    "#pd.set_option('display.max_rows', None) "
   ]
  },
  {
   "cell_type": "markdown",
   "id": "54b3fd68",
   "metadata": {},
   "source": [
    "## Load Data"
   ]
  },
  {
   "cell_type": "code",
   "execution_count": 2,
   "id": "fce0923f",
   "metadata": {},
   "outputs": [],
   "source": [
    "# set urls for database from IMDB website\n",
    "url_basics = 'https://datasets.imdbws.com/title.basics.tsv.gz'\n",
    "url_akas = 'https://datasets.imdbws.com/title.akas.tsv.gz'\n",
    "url_ratings = 'https://datasets.imdbws.com/title.ratings.tsv.gz'"
   ]
  },
  {
   "cell_type": "code",
   "execution_count": 3,
   "id": "c856afb0",
   "metadata": {
    "scrolled": true
   },
   "outputs": [],
   "source": [
    "# load data\n",
    "basics = pd.read_csv(url_basics, sep = '\\t', low_memory = False)\n",
    "akas = pd.read_csv(url_akas, sep = '\\t', low_memory = False)\n",
    "ratings = pd.read_csv(url_ratings, sep = '\\t', low_memory = False)"
   ]
  },
  {
   "cell_type": "markdown",
   "id": "8f705ca2",
   "metadata": {},
   "source": [
    "## Data Cleaning"
   ]
  },
  {
   "cell_type": "markdown",
   "id": "3a01632c",
   "metadata": {},
   "source": [
    "### Title Basics Database"
   ]
  },
  {
   "cell_type": "markdown",
   "id": "f8aa21c7",
   "metadata": {},
   "source": [
    "#### Replace \"\\N\" with np.nan"
   ]
  },
  {
   "cell_type": "code",
   "execution_count": 4,
   "id": "621fb565",
   "metadata": {},
   "outputs": [
    {
     "data": {
      "text/plain": [
       "tconst             0\n",
       "titleType          0\n",
       "primaryTitle      11\n",
       "originalTitle     11\n",
       "isAdult            0\n",
       "startYear          0\n",
       "endYear            0\n",
       "runtimeMinutes     0\n",
       "genres            15\n",
       "dtype: int64"
      ]
     },
     "execution_count": 4,
     "metadata": {},
     "output_type": "execute_result"
    }
   ],
   "source": [
    "basics.isna().sum()"
   ]
  },
  {
   "cell_type": "code",
   "execution_count": 5,
   "id": "10b9ff23",
   "metadata": {},
   "outputs": [
    {
     "data": {
      "text/plain": [
       "tconst                  0\n",
       "titleType               0\n",
       "primaryTitle           11\n",
       "originalTitle          11\n",
       "isAdult                 1\n",
       "startYear         1335303\n",
       "endYear           9790326\n",
       "runtimeMinutes    6973172\n",
       "genres             444842\n",
       "dtype: int64"
      ]
     },
     "execution_count": 5,
     "metadata": {},
     "output_type": "execute_result"
    }
   ],
   "source": [
    "# Missing values are nan and \\N. I wlll replace them all with nan so I can delete them. \n",
    "basics.replace({'\\\\N':np.nan}, inplace = True)\n",
    "basics.isna().sum()"
   ]
  },
  {
   "cell_type": "markdown",
   "id": "63af466e",
   "metadata": {},
   "source": [
    "#### Eliminate movies that are null for runtimeMinutes"
   ]
  },
  {
   "cell_type": "code",
   "execution_count": 6,
   "id": "0502106c",
   "metadata": {},
   "outputs": [
    {
     "data": {
      "text/plain": [
       "tconst                  0\n",
       "titleType               0\n",
       "primaryTitle            1\n",
       "originalTitle           1\n",
       "isAdult                 1\n",
       "startYear          171428\n",
       "endYear           2872764\n",
       "runtimeMinutes          0\n",
       "genres              77280\n",
       "dtype: int64"
      ]
     },
     "execution_count": 6,
     "metadata": {},
     "output_type": "execute_result"
    }
   ],
   "source": [
    "basics.dropna(subset = ['runtimeMinutes'], axis = 0, inplace = True)\n",
    "basics.isna().sum()"
   ]
  },
  {
   "cell_type": "markdown",
   "id": "c8bd692e",
   "metadata": {},
   "source": [
    "#### Eliminate movies that are null for genre"
   ]
  },
  {
   "cell_type": "code",
   "execution_count": 7,
   "id": "95c167ec",
   "metadata": {},
   "outputs": [
    {
     "data": {
      "text/plain": [
       "tconst                  0\n",
       "titleType               0\n",
       "primaryTitle            1\n",
       "originalTitle           1\n",
       "isAdult                 0\n",
       "startYear          166487\n",
       "endYear           2797079\n",
       "runtimeMinutes          0\n",
       "genres                  0\n",
       "dtype: int64"
      ]
     },
     "execution_count": 7,
     "metadata": {},
     "output_type": "execute_result"
    }
   ],
   "source": [
    "basics.dropna(subset = ['genres'], axis = 0, inplace = True)\n",
    "basics.isna().sum()"
   ]
  },
  {
   "cell_type": "markdown",
   "id": "c1602c8b",
   "metadata": {},
   "source": [
    "#### Keep only titleType==Movie"
   ]
  },
  {
   "cell_type": "code",
   "execution_count": 8,
   "id": "66c7b133",
   "metadata": {},
   "outputs": [
    {
     "name": "stdout",
     "output_type": "stream",
     "text": [
      "<class 'pandas.core.series.Series'>\n",
      "Int64Index: 383323 entries, 8 to 9897625\n",
      "Series name: titleType\n",
      "Non-Null Count   Dtype \n",
      "--------------   ----- \n",
      "383323 non-null  object\n",
      "dtypes: object(1)\n",
      "memory usage: 5.8+ MB\n"
     ]
    }
   ],
   "source": [
    "basics = basics[basics['titleType'] == 'movie']\n",
    "basics['titleType'].info()"
   ]
  },
  {
   "cell_type": "code",
   "execution_count": 9,
   "id": "7120b592",
   "metadata": {},
   "outputs": [
    {
     "name": "stdout",
     "output_type": "stream",
     "text": [
      "<class 'pandas.core.frame.DataFrame'>\n",
      "Int64Index: 383323 entries, 8 to 9897625\n",
      "Data columns (total 9 columns):\n",
      " #   Column          Non-Null Count   Dtype \n",
      "---  ------          --------------   ----- \n",
      " 0   tconst          383323 non-null  object\n",
      " 1   titleType       383323 non-null  object\n",
      " 2   primaryTitle    383323 non-null  object\n",
      " 3   originalTitle   383323 non-null  object\n",
      " 4   isAdult         383323 non-null  object\n",
      " 5   startYear       376863 non-null  object\n",
      " 6   endYear         0 non-null       object\n",
      " 7   runtimeMinutes  383323 non-null  object\n",
      " 8   genres          383323 non-null  object\n",
      "dtypes: object(9)\n",
      "memory usage: 29.2+ MB\n"
     ]
    }
   ],
   "source": [
    "basics.info()"
   ]
  },
  {
   "cell_type": "markdown",
   "id": "a7bd6a4c",
   "metadata": {},
   "source": [
    "#### Keep startYear 2000-2022"
   ]
  },
  {
   "cell_type": "code",
   "execution_count": 10,
   "id": "20b81536",
   "metadata": {},
   "outputs": [
    {
     "data": {
      "text/plain": [
       "count    223617.000000\n",
       "mean       2013.373518\n",
       "std           5.853839\n",
       "min        2000.000000\n",
       "25%        2009.000000\n",
       "50%        2014.000000\n",
       "75%        2018.000000\n",
       "max        2022.000000\n",
       "Name: startYear, dtype: float64"
      ]
     },
     "execution_count": 10,
     "metadata": {},
     "output_type": "execute_result"
    }
   ],
   "source": [
    "basics.dropna(subset = ['startYear'], axis = 0, inplace = True)\n",
    "basics['startYear'] = basics['startYear'].astype(dtype = int) \n",
    "basics = basics[(basics['startYear'] >= 2000) & (basics['startYear'] <= 2022)]\n",
    "basics['startYear'].describe()"
   ]
  },
  {
   "cell_type": "markdown",
   "id": "4c61984d",
   "metadata": {},
   "source": [
    "#### Eliminate movies that include \"Documentary\" in genre"
   ]
  },
  {
   "cell_type": "code",
   "execution_count": 11,
   "id": "8cbd6b4d",
   "metadata": {},
   "outputs": [
    {
     "data": {
      "text/plain": [
       "Documentary                  53333\n",
       "Drama                        36068\n",
       "Comedy                       13458\n",
       "Comedy,Drama                  6461\n",
       "Horror                        5806\n",
       "                             ...  \n",
       "Crime,Documentary,Romance        1\n",
       "Animation,Biography,Sport        1\n",
       "Adventure,History,Music          1\n",
       "Adventure,History,War            1\n",
       "Crime,Fantasy,Sci-Fi             1\n",
       "Name: genres, Length: 1187, dtype: int64"
      ]
     },
     "execution_count": 11,
     "metadata": {},
     "output_type": "execute_result"
    }
   ],
   "source": [
    "basics['genres'].value_counts()"
   ]
  },
  {
   "cell_type": "code",
   "execution_count": 12,
   "id": "797944cf",
   "metadata": {},
   "outputs": [],
   "source": [
    "is_documentary = basics['genres'].str.contains('documentary',case = False)\n",
    "basics = basics[~is_documentary]"
   ]
  },
  {
   "cell_type": "code",
   "execution_count": 13,
   "id": "9238b2e6",
   "metadata": {},
   "outputs": [
    {
     "data": {
      "text/plain": [
       "Drama                     36068\n",
       "Comedy                    13458\n",
       "Comedy,Drama               6461\n",
       "Horror                     5806\n",
       "Drama,Romance              4318\n",
       "                          ...  \n",
       "Action,Fantasy,Western        1\n",
       "Family,Musical,Sport          1\n",
       "Horror,Music,Mystery          1\n",
       "Comedy,History,Mystery        1\n",
       "Crime,Fantasy,Sci-Fi          1\n",
       "Name: genres, Length: 966, dtype: int64"
      ]
     },
     "execution_count": 13,
     "metadata": {},
     "output_type": "execute_result"
    }
   ],
   "source": [
    "basics['genres'].value_counts()"
   ]
  },
  {
   "cell_type": "markdown",
   "id": "7568da47",
   "metadata": {},
   "source": [
    "### AKAS Database"
   ]
  },
  {
   "cell_type": "code",
   "execution_count": 14,
   "id": "2e4cf6a1",
   "metadata": {
    "scrolled": true
   },
   "outputs": [
    {
     "name": "stdout",
     "output_type": "stream",
     "text": [
      "<class 'pandas.core.frame.DataFrame'>\n",
      "RangeIndex: 36084220 entries, 0 to 36084219\n",
      "Data columns (total 8 columns):\n",
      " #   Column           Dtype \n",
      "---  ------           ----- \n",
      " 0   titleId          object\n",
      " 1   ordering         int64 \n",
      " 2   title            object\n",
      " 3   region           object\n",
      " 4   language         object\n",
      " 5   types            object\n",
      " 6   attributes       object\n",
      " 7   isOriginalTitle  object\n",
      "dtypes: int64(1), object(7)\n",
      "memory usage: 2.2+ GB\n"
     ]
    }
   ],
   "source": [
    "akas.info()"
   ]
  },
  {
   "cell_type": "markdown",
   "id": "2a7d6a13",
   "metadata": {},
   "source": [
    "#### Keep only US movies."
   ]
  },
  {
   "cell_type": "code",
   "execution_count": 15,
   "id": "478ca257",
   "metadata": {},
   "outputs": [
    {
     "data": {
      "text/plain": [
       "US    1440940\n",
       "Name: region, dtype: int64"
      ]
     },
     "execution_count": 15,
     "metadata": {},
     "output_type": "execute_result"
    }
   ],
   "source": [
    "akas = akas[akas['region'] == 'US']\n",
    "akas['region'].value_counts()"
   ]
  },
  {
   "cell_type": "markdown",
   "id": "ebadc8d7",
   "metadata": {},
   "source": [
    "#### Replace \"\\N\" with np.nan"
   ]
  },
  {
   "cell_type": "code",
   "execution_count": 16,
   "id": "a998e058",
   "metadata": {},
   "outputs": [
    {
     "data": {
      "text/plain": [
       "titleId                  0\n",
       "ordering                 0\n",
       "title                    0\n",
       "region                   0\n",
       "language           1437000\n",
       "types               461368\n",
       "attributes         1394264\n",
       "isOriginalTitle       1345\n",
       "dtype: int64"
      ]
     },
     "execution_count": 16,
     "metadata": {},
     "output_type": "execute_result"
    }
   ],
   "source": [
    "akas.replace({'\\\\N':np.nan}, inplace = True)\n",
    "akas.isna().sum()"
   ]
  },
  {
   "cell_type": "markdown",
   "id": "c4ed3cca",
   "metadata": {},
   "source": [
    "#### Keep only US movies using AKAs table"
   ]
  },
  {
   "cell_type": "code",
   "execution_count": 17,
   "id": "18380d69",
   "metadata": {},
   "outputs": [],
   "source": [
    "keepers =basics['tconst'].isin(akas['titleId'])\n",
    "basics = basics[keepers]"
   ]
  },
  {
   "cell_type": "markdown",
   "id": "c53e437f",
   "metadata": {},
   "source": [
    "### RATINGS Database"
   ]
  },
  {
   "cell_type": "code",
   "execution_count": 18,
   "id": "e5307edf",
   "metadata": {},
   "outputs": [
    {
     "name": "stdout",
     "output_type": "stream",
     "text": [
      "<class 'pandas.core.frame.DataFrame'>\n",
      "RangeIndex: 1317803 entries, 0 to 1317802\n",
      "Data columns (total 3 columns):\n",
      " #   Column         Non-Null Count    Dtype  \n",
      "---  ------         --------------    -----  \n",
      " 0   tconst         1317803 non-null  object \n",
      " 1   averageRating  1317803 non-null  float64\n",
      " 2   numVotes       1317803 non-null  int64  \n",
      "dtypes: float64(1), int64(1), object(1)\n",
      "memory usage: 30.2+ MB\n"
     ]
    }
   ],
   "source": [
    "ratings.info()"
   ]
  },
  {
   "cell_type": "markdown",
   "id": "d32d75ef",
   "metadata": {},
   "source": [
    "#### Replace \"\\N\" with np.nan (if any)"
   ]
  },
  {
   "cell_type": "code",
   "execution_count": 19,
   "id": "23fbdfe8",
   "metadata": {},
   "outputs": [
    {
     "data": {
      "text/plain": [
       "tconst           0\n",
       "averageRating    0\n",
       "numVotes         0\n",
       "dtype: int64"
      ]
     },
     "execution_count": 19,
     "metadata": {},
     "output_type": "execute_result"
    }
   ],
   "source": [
    "ratings.replace({'\\\\N':np.nan}, inplace = True)\n",
    "ratings.isna().sum()"
   ]
  },
  {
   "cell_type": "markdown",
   "id": "67e8e44c",
   "metadata": {},
   "source": [
    "#### Keep only US movies from Title Basics Table using AKAs table"
   ]
  },
  {
   "cell_type": "code",
   "execution_count": 20,
   "id": "bdfe5551",
   "metadata": {},
   "outputs": [],
   "source": [
    "keepers =ratings['tconst'].isin(akas['titleId'])\n",
    "ratings = ratings[keepers]"
   ]
  },
  {
   "cell_type": "markdown",
   "id": "b721485a",
   "metadata": {},
   "source": [
    "## Review"
   ]
  },
  {
   "cell_type": "code",
   "execution_count": 21,
   "id": "f4f495a8",
   "metadata": {},
   "outputs": [
    {
     "name": "stdout",
     "output_type": "stream",
     "text": [
      "<class 'pandas.core.frame.DataFrame'>\n",
      "Int64Index: 86790 entries, 34803 to 9897441\n",
      "Data columns (total 9 columns):\n",
      " #   Column          Non-Null Count  Dtype \n",
      "---  ------          --------------  ----- \n",
      " 0   tconst          86790 non-null  object\n",
      " 1   titleType       86790 non-null  object\n",
      " 2   primaryTitle    86790 non-null  object\n",
      " 3   originalTitle   86790 non-null  object\n",
      " 4   isAdult         86790 non-null  object\n",
      " 5   startYear       86790 non-null  int64 \n",
      " 6   endYear         0 non-null      object\n",
      " 7   runtimeMinutes  86790 non-null  object\n",
      " 8   genres          86790 non-null  object\n",
      "dtypes: int64(1), object(8)\n",
      "memory usage: 6.6+ MB\n"
     ]
    }
   ],
   "source": [
    "basics.info()"
   ]
  },
  {
   "cell_type": "code",
   "execution_count": 22,
   "id": "50455e79",
   "metadata": {},
   "outputs": [
    {
     "name": "stdout",
     "output_type": "stream",
     "text": [
      "<class 'pandas.core.frame.DataFrame'>\n",
      "Int64Index: 1440940 entries, 5 to 36083964\n",
      "Data columns (total 8 columns):\n",
      " #   Column           Non-Null Count    Dtype \n",
      "---  ------           --------------    ----- \n",
      " 0   titleId          1440940 non-null  object\n",
      " 1   ordering         1440940 non-null  int64 \n",
      " 2   title            1440940 non-null  object\n",
      " 3   region           1440940 non-null  object\n",
      " 4   language         3940 non-null     object\n",
      " 5   types            979572 non-null   object\n",
      " 6   attributes       46676 non-null    object\n",
      " 7   isOriginalTitle  1439595 non-null  object\n",
      "dtypes: int64(1), object(7)\n",
      "memory usage: 98.9+ MB\n"
     ]
    }
   ],
   "source": [
    "akas.info()"
   ]
  },
  {
   "cell_type": "code",
   "execution_count": 23,
   "id": "dafd6de3",
   "metadata": {},
   "outputs": [
    {
     "name": "stdout",
     "output_type": "stream",
     "text": [
      "<class 'pandas.core.frame.DataFrame'>\n",
      "Int64Index: 500581 entries, 0 to 1317778\n",
      "Data columns (total 3 columns):\n",
      " #   Column         Non-Null Count   Dtype  \n",
      "---  ------         --------------   -----  \n",
      " 0   tconst         500581 non-null  object \n",
      " 1   averageRating  500581 non-null  float64\n",
      " 2   numVotes       500581 non-null  int64  \n",
      "dtypes: float64(1), int64(1), object(1)\n",
      "memory usage: 15.3+ MB\n"
     ]
    }
   ],
   "source": [
    "ratings.info()"
   ]
  },
  {
   "cell_type": "markdown",
   "id": "4220faf0",
   "metadata": {},
   "source": [
    "## Save Files"
   ]
  },
  {
   "cell_type": "code",
   "execution_count": 24,
   "id": "1913920a",
   "metadata": {},
   "outputs": [
    {
     "data": {
      "text/plain": [
       "['.DS_Store',\n",
       " 'title_basics.csv.gz',\n",
       " 'title_akas.csv.gz',\n",
       " 'title_ratings.csv.gz']"
      ]
     },
     "execution_count": 24,
     "metadata": {},
     "output_type": "execute_result"
    }
   ],
   "source": [
    "import os\n",
    "os.makedirs('Data/',exist_ok=True) \n",
    "\n",
    "# Confirm folder created\n",
    "os.listdir(\"Data/\")"
   ]
  },
  {
   "cell_type": "code",
   "execution_count": 25,
   "id": "2cdd80ec",
   "metadata": {},
   "outputs": [
    {
     "data": {
      "text/html": [
       "<div>\n",
       "<style scoped>\n",
       "    .dataframe tbody tr th:only-of-type {\n",
       "        vertical-align: middle;\n",
       "    }\n",
       "\n",
       "    .dataframe tbody tr th {\n",
       "        vertical-align: top;\n",
       "    }\n",
       "\n",
       "    .dataframe thead th {\n",
       "        text-align: right;\n",
       "    }\n",
       "</style>\n",
       "<table border=\"1\" class=\"dataframe\">\n",
       "  <thead>\n",
       "    <tr style=\"text-align: right;\">\n",
       "      <th></th>\n",
       "      <th>tconst</th>\n",
       "      <th>titleType</th>\n",
       "      <th>primaryTitle</th>\n",
       "      <th>originalTitle</th>\n",
       "      <th>isAdult</th>\n",
       "      <th>startYear</th>\n",
       "      <th>endYear</th>\n",
       "      <th>runtimeMinutes</th>\n",
       "      <th>genres</th>\n",
       "    </tr>\n",
       "  </thead>\n",
       "  <tbody>\n",
       "    <tr>\n",
       "      <th>0</th>\n",
       "      <td>tt0035423</td>\n",
       "      <td>movie</td>\n",
       "      <td>Kate &amp; Leopold</td>\n",
       "      <td>Kate &amp; Leopold</td>\n",
       "      <td>0</td>\n",
       "      <td>2001</td>\n",
       "      <td>NaN</td>\n",
       "      <td>118</td>\n",
       "      <td>Comedy,Fantasy,Romance</td>\n",
       "    </tr>\n",
       "    <tr>\n",
       "      <th>1</th>\n",
       "      <td>tt0043139</td>\n",
       "      <td>movie</td>\n",
       "      <td>Life of a Beijing Policeman</td>\n",
       "      <td>Wo zhe yi bei zi</td>\n",
       "      <td>0</td>\n",
       "      <td>2013</td>\n",
       "      <td>NaN</td>\n",
       "      <td>120</td>\n",
       "      <td>Drama,History</td>\n",
       "    </tr>\n",
       "    <tr>\n",
       "      <th>2</th>\n",
       "      <td>tt0062336</td>\n",
       "      <td>movie</td>\n",
       "      <td>The Tango of the Widower and Its Distorting Mi...</td>\n",
       "      <td>El tango del viudo y su espejo deformante</td>\n",
       "      <td>0</td>\n",
       "      <td>2020</td>\n",
       "      <td>NaN</td>\n",
       "      <td>70</td>\n",
       "      <td>Drama</td>\n",
       "    </tr>\n",
       "    <tr>\n",
       "      <th>3</th>\n",
       "      <td>tt0069049</td>\n",
       "      <td>movie</td>\n",
       "      <td>The Other Side of the Wind</td>\n",
       "      <td>The Other Side of the Wind</td>\n",
       "      <td>0</td>\n",
       "      <td>2018</td>\n",
       "      <td>NaN</td>\n",
       "      <td>122</td>\n",
       "      <td>Drama</td>\n",
       "    </tr>\n",
       "    <tr>\n",
       "      <th>4</th>\n",
       "      <td>tt0088751</td>\n",
       "      <td>movie</td>\n",
       "      <td>The Naked Monster</td>\n",
       "      <td>The Naked Monster</td>\n",
       "      <td>0</td>\n",
       "      <td>2005</td>\n",
       "      <td>NaN</td>\n",
       "      <td>100</td>\n",
       "      <td>Comedy,Horror,Sci-Fi</td>\n",
       "    </tr>\n",
       "  </tbody>\n",
       "</table>\n",
       "</div>"
      ],
      "text/plain": [
       "      tconst titleType                                       primaryTitle  \\\n",
       "0  tt0035423     movie                                     Kate & Leopold   \n",
       "1  tt0043139     movie                        Life of a Beijing Policeman   \n",
       "2  tt0062336     movie  The Tango of the Widower and Its Distorting Mi...   \n",
       "3  tt0069049     movie                         The Other Side of the Wind   \n",
       "4  tt0088751     movie                                  The Naked Monster   \n",
       "\n",
       "                               originalTitle  isAdult  startYear  endYear  \\\n",
       "0                             Kate & Leopold        0       2001      NaN   \n",
       "1                           Wo zhe yi bei zi        0       2013      NaN   \n",
       "2  El tango del viudo y su espejo deformante        0       2020      NaN   \n",
       "3                 The Other Side of the Wind        0       2018      NaN   \n",
       "4                          The Naked Monster        0       2005      NaN   \n",
       "\n",
       "   runtimeMinutes                  genres  \n",
       "0             118  Comedy,Fantasy,Romance  \n",
       "1             120           Drama,History  \n",
       "2              70                   Drama  \n",
       "3             122                   Drama  \n",
       "4             100    Comedy,Horror,Sci-Fi  "
      ]
     },
     "execution_count": 25,
     "metadata": {},
     "output_type": "execute_result"
    }
   ],
   "source": [
    "## Save current dataframe to file.\n",
    "basics.to_csv(\"Data/title_basics.csv.gz\",compression='gzip',index=False)\n",
    "\n",
    "# Open saved file and preview again\n",
    "basics = pd.read_csv(\"Data/title_basics.csv.gz\", low_memory = False)\n",
    "basics.head()"
   ]
  },
  {
   "cell_type": "code",
   "execution_count": 26,
   "id": "e1b17299",
   "metadata": {},
   "outputs": [
    {
     "data": {
      "text/html": [
       "<div>\n",
       "<style scoped>\n",
       "    .dataframe tbody tr th:only-of-type {\n",
       "        vertical-align: middle;\n",
       "    }\n",
       "\n",
       "    .dataframe tbody tr th {\n",
       "        vertical-align: top;\n",
       "    }\n",
       "\n",
       "    .dataframe thead th {\n",
       "        text-align: right;\n",
       "    }\n",
       "</style>\n",
       "<table border=\"1\" class=\"dataframe\">\n",
       "  <thead>\n",
       "    <tr style=\"text-align: right;\">\n",
       "      <th></th>\n",
       "      <th>titleId</th>\n",
       "      <th>ordering</th>\n",
       "      <th>title</th>\n",
       "      <th>region</th>\n",
       "      <th>language</th>\n",
       "      <th>types</th>\n",
       "      <th>attributes</th>\n",
       "      <th>isOriginalTitle</th>\n",
       "    </tr>\n",
       "  </thead>\n",
       "  <tbody>\n",
       "    <tr>\n",
       "      <th>0</th>\n",
       "      <td>tt0000001</td>\n",
       "      <td>6</td>\n",
       "      <td>Carmencita</td>\n",
       "      <td>US</td>\n",
       "      <td>NaN</td>\n",
       "      <td>imdbDisplay</td>\n",
       "      <td>NaN</td>\n",
       "      <td>0.0</td>\n",
       "    </tr>\n",
       "    <tr>\n",
       "      <th>1</th>\n",
       "      <td>tt0000002</td>\n",
       "      <td>7</td>\n",
       "      <td>The Clown and His Dogs</td>\n",
       "      <td>US</td>\n",
       "      <td>NaN</td>\n",
       "      <td>NaN</td>\n",
       "      <td>literal English title</td>\n",
       "      <td>0.0</td>\n",
       "    </tr>\n",
       "    <tr>\n",
       "      <th>2</th>\n",
       "      <td>tt0000005</td>\n",
       "      <td>10</td>\n",
       "      <td>Blacksmith Scene</td>\n",
       "      <td>US</td>\n",
       "      <td>NaN</td>\n",
       "      <td>imdbDisplay</td>\n",
       "      <td>NaN</td>\n",
       "      <td>0.0</td>\n",
       "    </tr>\n",
       "    <tr>\n",
       "      <th>3</th>\n",
       "      <td>tt0000005</td>\n",
       "      <td>1</td>\n",
       "      <td>Blacksmithing Scene</td>\n",
       "      <td>US</td>\n",
       "      <td>NaN</td>\n",
       "      <td>alternative</td>\n",
       "      <td>NaN</td>\n",
       "      <td>0.0</td>\n",
       "    </tr>\n",
       "    <tr>\n",
       "      <th>4</th>\n",
       "      <td>tt0000005</td>\n",
       "      <td>6</td>\n",
       "      <td>Blacksmith Scene #1</td>\n",
       "      <td>US</td>\n",
       "      <td>NaN</td>\n",
       "      <td>alternative</td>\n",
       "      <td>NaN</td>\n",
       "      <td>0.0</td>\n",
       "    </tr>\n",
       "  </tbody>\n",
       "</table>\n",
       "</div>"
      ],
      "text/plain": [
       "     titleId  ordering                   title region language        types  \\\n",
       "0  tt0000001         6              Carmencita     US      NaN  imdbDisplay   \n",
       "1  tt0000002         7  The Clown and His Dogs     US      NaN          NaN   \n",
       "2  tt0000005        10        Blacksmith Scene     US      NaN  imdbDisplay   \n",
       "3  tt0000005         1     Blacksmithing Scene     US      NaN  alternative   \n",
       "4  tt0000005         6     Blacksmith Scene #1     US      NaN  alternative   \n",
       "\n",
       "              attributes  isOriginalTitle  \n",
       "0                    NaN              0.0  \n",
       "1  literal English title              0.0  \n",
       "2                    NaN              0.0  \n",
       "3                    NaN              0.0  \n",
       "4                    NaN              0.0  "
      ]
     },
     "execution_count": 26,
     "metadata": {},
     "output_type": "execute_result"
    }
   ],
   "source": [
    "## Save current dataframe to file.\n",
    "akas.to_csv(\"Data/title_akas.csv.gz\",compression='gzip',index=False)\n",
    "\n",
    "# Open saved file and preview again\n",
    "akas = pd.read_csv(\"Data/title_akas.csv.gz\", low_memory = False)\n",
    "akas.head()"
   ]
  },
  {
   "cell_type": "code",
   "execution_count": 27,
   "id": "2b47db80",
   "metadata": {},
   "outputs": [
    {
     "data": {
      "text/html": [
       "<div>\n",
       "<style scoped>\n",
       "    .dataframe tbody tr th:only-of-type {\n",
       "        vertical-align: middle;\n",
       "    }\n",
       "\n",
       "    .dataframe tbody tr th {\n",
       "        vertical-align: top;\n",
       "    }\n",
       "\n",
       "    .dataframe thead th {\n",
       "        text-align: right;\n",
       "    }\n",
       "</style>\n",
       "<table border=\"1\" class=\"dataframe\">\n",
       "  <thead>\n",
       "    <tr style=\"text-align: right;\">\n",
       "      <th></th>\n",
       "      <th>tconst</th>\n",
       "      <th>averageRating</th>\n",
       "      <th>numVotes</th>\n",
       "    </tr>\n",
       "  </thead>\n",
       "  <tbody>\n",
       "    <tr>\n",
       "      <th>0</th>\n",
       "      <td>tt0000001</td>\n",
       "      <td>5.7</td>\n",
       "      <td>1976</td>\n",
       "    </tr>\n",
       "    <tr>\n",
       "      <th>1</th>\n",
       "      <td>tt0000002</td>\n",
       "      <td>5.8</td>\n",
       "      <td>264</td>\n",
       "    </tr>\n",
       "    <tr>\n",
       "      <th>2</th>\n",
       "      <td>tt0000005</td>\n",
       "      <td>6.2</td>\n",
       "      <td>2619</td>\n",
       "    </tr>\n",
       "    <tr>\n",
       "      <th>3</th>\n",
       "      <td>tt0000006</td>\n",
       "      <td>5.1</td>\n",
       "      <td>182</td>\n",
       "    </tr>\n",
       "    <tr>\n",
       "      <th>4</th>\n",
       "      <td>tt0000007</td>\n",
       "      <td>5.4</td>\n",
       "      <td>821</td>\n",
       "    </tr>\n",
       "  </tbody>\n",
       "</table>\n",
       "</div>"
      ],
      "text/plain": [
       "      tconst  averageRating  numVotes\n",
       "0  tt0000001            5.7      1976\n",
       "1  tt0000002            5.8       264\n",
       "2  tt0000005            6.2      2619\n",
       "3  tt0000006            5.1       182\n",
       "4  tt0000007            5.4       821"
      ]
     },
     "execution_count": 27,
     "metadata": {},
     "output_type": "execute_result"
    }
   ],
   "source": [
    "## Save current dataframe to file.\n",
    "ratings.to_csv(\"Data/title_ratings.csv.gz\",compression='gzip',index=False)\n",
    "\n",
    "# Open saved file and preview again\n",
    "ratings = pd.read_csv(\"Data/title_ratings.csv.gz\", low_memory = False)\n",
    "ratings.head()"
   ]
  },
  {
   "cell_type": "markdown",
   "id": "50b92b12",
   "metadata": {},
   "source": [
    "# Part 2: Use an API to extract  revenue and profit"
   ]
  },
  {
   "cell_type": "markdown",
   "id": "9287b755",
   "metadata": {},
   "source": [
    "## Your Stakeholder Wants More Data!\n",
    "After investigating the preview of your data from Part 1, your stakeholder realized that there is no financial information included in the IMDB data (e.g. budget or revenue).\n",
    "\n",
    "This will be a major roadblock when attempting to analyze which movies are successful and must be addressed before you will be able to determine which movies are successful.\n",
    "Your stakeholder identified The Movie Database ([TMDB](https://www.themoviedb.org/)) as a great source of financial data . Thankfully, TMDB offers a free API for programmatic access to their data!\n",
    "\n",
    "Your stakeholder wants you to extract the budget, revenue, and MPAA Rating (G/PG/PG-13/R), which is also called \"Certification\".\n",
    "\n",
    "- Note: this process can take a long time and may need to run overnight."
   ]
  },
  {
   "cell_type": "markdown",
   "id": "64a16b05",
   "metadata": {},
   "source": [
    "### Specifications - Financial Data\n",
    "Your stakeholder would like you to extract and save the results for movies that meet all of the criteria established in part 1 of the project (You should already have a filtered dataframe saved from part one as a csv.gz file)\n",
    "\n",
    "As a proof-of-concept, they requested you perform a test extraction of movies that started in 2000 or 2001\n",
    "\n",
    "Each year should be saved as a separate .csv.gz file\n",
    "\n",
    "Confirm Your API Function works.\n",
    "\n",
    "- To ensure your function for extracting movie data from TMDB is working, test your function on these 2 movie ids: tt0848228 (\"The Avengers\") and tt0332280 (\"The Notebook\"). Make sure that your function runs without error and that it returns the correct movie's data for both test ids."
   ]
  },
  {
   "cell_type": "markdown",
   "id": "cf6a9a78",
   "metadata": {},
   "source": [
    "Once you have retrieved and saved the final results to 2 separate .csv.gz files, move on to a new Exploratory Data Analysis notebook to explore the following questions.\n",
    "\n",
    "### Exploratory Data Analysis\n",
    "- Load in your csv.gz's of results for each year extracted.\n",
    "- Concatenate the data into 1 dataframe for the remainder of the analysis.\n",
    "- Once you have your data from the API, they would like you to perform some light EDA to show:\n",
    "- How many movies had at least some valid financial information (values > 0 for budget OR revenue)?\n",
    "- Please exclude any movies with 0's for budget AND revenue from the remaining visualizations.\n",
    "- How many movies are there in each of the certification categories (G/PG/PG-13/R)?\n",
    "- What is the average revenue per certification category?\n",
    "- What is the average budget per certification category?"
   ]
  },
  {
   "cell_type": "markdown",
   "id": "684d768f",
   "metadata": {},
   "source": [
    "### Deliverables\n",
    "After you have joined the tmdb results into 1 dataframe in the EDA Notebook:\n",
    "\n",
    "- Save a final merged .csv.gz of all of the tmdb api data\n",
    "- The file name is \"tmdb_results_combined.csv.gz\"\n",
    "One code file for API calls\n",
    "One code file for EDA"
   ]
  },
  {
   "cell_type": "markdown",
   "id": "94a1a530",
   "metadata": {},
   "source": [
    "## Additional Imports"
   ]
  },
  {
   "cell_type": "code",
   "execution_count": 28,
   "id": "e719f52b",
   "metadata": {},
   "outputs": [
    {
     "name": "stdout",
     "output_type": "stream",
     "text": [
      "Requirement already satisfied: tqdm in /opt/homebrew/Caskroom/miniforge/base/envs/dojo-env/lib/python3.9/site-packages (4.64.1)\n",
      "Requirement already satisfied: tmdbsimple in /opt/homebrew/Caskroom/miniforge/base/envs/dojo-env/lib/python3.9/site-packages (2.9.1)\n",
      "Requirement already satisfied: requests in /opt/homebrew/Caskroom/miniforge/base/envs/dojo-env/lib/python3.9/site-packages (from tmdbsimple) (2.28.1)\n",
      "Requirement already satisfied: urllib3<1.27,>=1.21.1 in /opt/homebrew/Caskroom/miniforge/base/envs/dojo-env/lib/python3.9/site-packages (from requests->tmdbsimple) (1.26.13)\n",
      "Requirement already satisfied: charset-normalizer<3,>=2 in /opt/homebrew/Caskroom/miniforge/base/envs/dojo-env/lib/python3.9/site-packages (from requests->tmdbsimple) (2.0.4)\n",
      "Requirement already satisfied: certifi>=2017.4.17 in /opt/homebrew/Caskroom/miniforge/base/envs/dojo-env/lib/python3.9/site-packages (from requests->tmdbsimple) (2022.9.24)\n",
      "Requirement already satisfied: idna<4,>=2.5 in /opt/homebrew/Caskroom/miniforge/base/envs/dojo-env/lib/python3.9/site-packages (from requests->tmdbsimple) (3.4)\n"
     ]
    }
   ],
   "source": [
    "# Standard\n",
    "import matplotlib.pyplot as plt\n",
    "import seaborn as sns\n",
    "\n",
    "# New Imports\n",
    "import os, json, math, time\n",
    "from yelpapi import YelpAPI\n",
    "from tqdm.notebook import tqdm_notebook\n",
    "\n",
    "# Install tmdbsimple   \n",
    "!pip install tqdm\n",
    "\n",
    "#Install tmdbsimple\n",
    "!pip install tmdbsimple\n",
    "import tmdbsimple as tmdb"
   ]
  },
  {
   "cell_type": "markdown",
   "id": "5f61993e",
   "metadata": {},
   "source": [
    "## Define Functions"
   ]
  },
  {
   "cell_type": "code",
   "execution_count": 29,
   "id": "b2d2e3e5",
   "metadata": {},
   "outputs": [],
   "source": [
    "#get movie ratings for US movies and match them to their movie\n",
    "def get_movie_with_rating(movie_id):\n",
    "    \n",
    "    #Get movie object for current id\n",
    "    movie = tmdb.Movies(movie_id)\n",
    "    \n",
    "    #Save the .info and .releases dictionaries\n",
    "    info = movie.info()\n",
    "    releases = movie.releases()\n",
    "    \n",
    "    #Loop through countries in releases\n",
    "    for c in releases['countries']:\n",
    "        \n",
    "        #if the country == US\n",
    "        if c['iso_3166_1'] == 'US':\n",
    "            \n",
    "            #save the certification(movie rating) with movie\n",
    "            info['certification'] = c['certification']\n",
    "    \n",
    "    return info"
   ]
  },
  {
   "cell_type": "code",
   "execution_count": 30,
   "id": "8c8d0141",
   "metadata": {},
   "outputs": [],
   "source": [
    "#Appends a list of records (new_data) to a json file (filename). \n",
    "def write_json(new_data, filename): \n",
    "    \n",
    "    with open(filename,'r+') as file:\n",
    "\n",
    "        # Load existing data into a dict.\n",
    "        file_data = json.load(file)\n",
    "        \n",
    "        # Choose extend or append\n",
    "        if (type(new_data) == list) & (type(file_data) == list):\n",
    "            file_data.extend(new_data)\n",
    "        else:\n",
    "             file_data.append(new_data)\n",
    "        \n",
    "        # Sets file's current position at offset.\n",
    "        file.seek(0)\n",
    "        \n",
    "        # convert back to json.\n",
    "        json.dump(file_data, file)"
   ]
  },
  {
   "cell_type": "markdown",
   "id": "19cb296d",
   "metadata": {},
   "source": [
    "## Login to TMDB with API Key"
   ]
  },
  {
   "cell_type": "code",
   "execution_count": 31,
   "id": "984b11a6",
   "metadata": {},
   "outputs": [
    {
     "data": {
      "text/plain": [
       "dict_keys(['API Key', 'API Read Access Token'])"
      ]
     },
     "execution_count": 31,
     "metadata": {},
     "output_type": "execute_result"
    }
   ],
   "source": [
    "import json\n",
    "with open('/Users/jasontracey/.secret/tmdb_api.json', 'r') as f:\n",
    "    login = json.load(f)\n",
    "## Display the keys of the loaded dict\n",
    "login.keys()"
   ]
  },
  {
   "cell_type": "code",
   "execution_count": 32,
   "id": "e5d7d6a4",
   "metadata": {},
   "outputs": [],
   "source": [
    "tmdb.API_KEY =  login['API Key']"
   ]
  },
  {
   "cell_type": "code",
   "execution_count": 33,
   "id": "50ab1816",
   "metadata": {},
   "outputs": [
    {
     "data": {
      "text/plain": [
       "{'adult': False,\n",
       " 'backdrop_path': '/9BBTo63ANSmhC4e6r62OJFuK2GL.jpg',\n",
       " 'belongs_to_collection': {'id': 86311,\n",
       "  'name': 'The Avengers Collection',\n",
       "  'poster_path': '/yFSIUVTCvgYrpalUktulvk3Gi5Y.jpg',\n",
       "  'backdrop_path': '/zuW6fOiusv4X9nnW3paHGfXcSll.jpg'},\n",
       " 'budget': 220000000,\n",
       " 'genres': [{'id': 878, 'name': 'Science Fiction'},\n",
       "  {'id': 28, 'name': 'Action'},\n",
       "  {'id': 12, 'name': 'Adventure'}],\n",
       " 'homepage': 'https://www.marvel.com/movies/the-avengers',\n",
       " 'id': 24428,\n",
       " 'imdb_id': 'tt0848228',\n",
       " 'original_language': 'en',\n",
       " 'original_title': 'The Avengers',\n",
       " 'overview': 'When an unexpected enemy emerges and threatens global safety and security, Nick Fury, director of the international peacekeeping agency known as S.H.I.E.L.D., finds himself in need of a team to pull the world back from the brink of disaster. Spanning the globe, a daring recruitment effort begins!',\n",
       " 'popularity': 100.934,\n",
       " 'poster_path': '/RYMX2wcKCBAr24UyPD7xwmjaTn.jpg',\n",
       " 'production_companies': [{'id': 420,\n",
       "   'logo_path': '/hUzeosd33nzE5MCNsZxCGEKTXaQ.png',\n",
       "   'name': 'Marvel Studios',\n",
       "   'origin_country': 'US'}],\n",
       " 'production_countries': [{'iso_3166_1': 'US',\n",
       "   'name': 'United States of America'}],\n",
       " 'release_date': '2012-04-25',\n",
       " 'revenue': 1518815515,\n",
       " 'runtime': 143,\n",
       " 'spoken_languages': [{'english_name': 'English',\n",
       "   'iso_639_1': 'en',\n",
       "   'name': 'English'},\n",
       "  {'english_name': 'Hindi', 'iso_639_1': 'hi', 'name': 'हिन्दी'},\n",
       "  {'english_name': 'Russian', 'iso_639_1': 'ru', 'name': 'Pусский'}],\n",
       " 'status': 'Released',\n",
       " 'tagline': 'Some assembly required.',\n",
       " 'title': 'The Avengers',\n",
       " 'video': False,\n",
       " 'vote_average': 7.707,\n",
       " 'vote_count': 28646,\n",
       " 'certification': 'PG-13'}"
      ]
     },
     "execution_count": 33,
     "metadata": {},
     "output_type": "execute_result"
    }
   ],
   "source": [
    "test = get_movie_with_rating(\"tt0848228\") #put your function name here\n",
    "test"
   ]
  },
  {
   "cell_type": "code",
   "execution_count": 34,
   "id": "e04aa079",
   "metadata": {},
   "outputs": [
    {
     "data": {
      "text/html": [
       "<div>\n",
       "<style scoped>\n",
       "    .dataframe tbody tr th:only-of-type {\n",
       "        vertical-align: middle;\n",
       "    }\n",
       "\n",
       "    .dataframe tbody tr th {\n",
       "        vertical-align: top;\n",
       "    }\n",
       "\n",
       "    .dataframe thead th {\n",
       "        text-align: right;\n",
       "    }\n",
       "</style>\n",
       "<table border=\"1\" class=\"dataframe\">\n",
       "  <thead>\n",
       "    <tr style=\"text-align: right;\">\n",
       "      <th></th>\n",
       "      <th>adult</th>\n",
       "      <th>backdrop_path</th>\n",
       "      <th>belongs_to_collection</th>\n",
       "      <th>budget</th>\n",
       "      <th>genres</th>\n",
       "      <th>homepage</th>\n",
       "      <th>id</th>\n",
       "      <th>imdb_id</th>\n",
       "      <th>original_language</th>\n",
       "      <th>original_title</th>\n",
       "      <th>...</th>\n",
       "      <th>revenue</th>\n",
       "      <th>runtime</th>\n",
       "      <th>spoken_languages</th>\n",
       "      <th>status</th>\n",
       "      <th>tagline</th>\n",
       "      <th>title</th>\n",
       "      <th>video</th>\n",
       "      <th>vote_average</th>\n",
       "      <th>vote_count</th>\n",
       "      <th>certification</th>\n",
       "    </tr>\n",
       "  </thead>\n",
       "  <tbody>\n",
       "    <tr>\n",
       "      <th>0</th>\n",
       "      <td>False</td>\n",
       "      <td>/9BBTo63ANSmhC4e6r62OJFuK2GL.jpg</td>\n",
       "      <td>{'id': 86311, 'name': 'The Avengers Collection...</td>\n",
       "      <td>220000000</td>\n",
       "      <td>[{'id': 878, 'name': 'Science Fiction'}, {'id'...</td>\n",
       "      <td>https://www.marvel.com/movies/the-avengers</td>\n",
       "      <td>24428</td>\n",
       "      <td>tt0848228</td>\n",
       "      <td>en</td>\n",
       "      <td>The Avengers</td>\n",
       "      <td>...</td>\n",
       "      <td>1518815515</td>\n",
       "      <td>143</td>\n",
       "      <td>[{'english_name': 'English', 'iso_639_1': 'en'...</td>\n",
       "      <td>Released</td>\n",
       "      <td>Some assembly required.</td>\n",
       "      <td>The Avengers</td>\n",
       "      <td>False</td>\n",
       "      <td>7.707</td>\n",
       "      <td>28646</td>\n",
       "      <td>PG-13</td>\n",
       "    </tr>\n",
       "    <tr>\n",
       "      <th>1</th>\n",
       "      <td>False</td>\n",
       "      <td>/9BBTo63ANSmhC4e6r62OJFuK2GL.jpg</td>\n",
       "      <td>{'id': 86311, 'name': 'The Avengers Collection...</td>\n",
       "      <td>220000000</td>\n",
       "      <td>[{'id': 878, 'name': 'Science Fiction'}, {'id'...</td>\n",
       "      <td>https://www.marvel.com/movies/the-avengers</td>\n",
       "      <td>24428</td>\n",
       "      <td>tt0848228</td>\n",
       "      <td>en</td>\n",
       "      <td>The Avengers</td>\n",
       "      <td>...</td>\n",
       "      <td>1518815515</td>\n",
       "      <td>143</td>\n",
       "      <td>[{'english_name': 'English', 'iso_639_1': 'en'...</td>\n",
       "      <td>Released</td>\n",
       "      <td>Some assembly required.</td>\n",
       "      <td>The Avengers</td>\n",
       "      <td>False</td>\n",
       "      <td>7.707</td>\n",
       "      <td>28646</td>\n",
       "      <td>PG-13</td>\n",
       "    </tr>\n",
       "    <tr>\n",
       "      <th>2</th>\n",
       "      <td>False</td>\n",
       "      <td>/qom1SZSENdmHFNZBXbtJAU0WTlC.jpg</td>\n",
       "      <td>None</td>\n",
       "      <td>29000000</td>\n",
       "      <td>[{'id': 10749, 'name': 'Romance'}, {'id': 18, ...</td>\n",
       "      <td>http://www.newline.com/properties/notebookthe....</td>\n",
       "      <td>11036</td>\n",
       "      <td>tt0332280</td>\n",
       "      <td>en</td>\n",
       "      <td>The Notebook</td>\n",
       "      <td>...</td>\n",
       "      <td>115603229</td>\n",
       "      <td>123</td>\n",
       "      <td>[{'english_name': 'English', 'iso_639_1': 'en'...</td>\n",
       "      <td>Released</td>\n",
       "      <td>Behind every great love is a great story.</td>\n",
       "      <td>The Notebook</td>\n",
       "      <td>False</td>\n",
       "      <td>7.878</td>\n",
       "      <td>10348</td>\n",
       "      <td>PG-13</td>\n",
       "    </tr>\n",
       "  </tbody>\n",
       "</table>\n",
       "<p>3 rows × 26 columns</p>\n",
       "</div>"
      ],
      "text/plain": [
       "   adult                     backdrop_path  \\\n",
       "0  False  /9BBTo63ANSmhC4e6r62OJFuK2GL.jpg   \n",
       "1  False  /9BBTo63ANSmhC4e6r62OJFuK2GL.jpg   \n",
       "2  False  /qom1SZSENdmHFNZBXbtJAU0WTlC.jpg   \n",
       "\n",
       "                               belongs_to_collection     budget  \\\n",
       "0  {'id': 86311, 'name': 'The Avengers Collection...  220000000   \n",
       "1  {'id': 86311, 'name': 'The Avengers Collection...  220000000   \n",
       "2                                               None   29000000   \n",
       "\n",
       "                                              genres  \\\n",
       "0  [{'id': 878, 'name': 'Science Fiction'}, {'id'...   \n",
       "1  [{'id': 878, 'name': 'Science Fiction'}, {'id'...   \n",
       "2  [{'id': 10749, 'name': 'Romance'}, {'id': 18, ...   \n",
       "\n",
       "                                            homepage     id    imdb_id  \\\n",
       "0         https://www.marvel.com/movies/the-avengers  24428  tt0848228   \n",
       "1         https://www.marvel.com/movies/the-avengers  24428  tt0848228   \n",
       "2  http://www.newline.com/properties/notebookthe....  11036  tt0332280   \n",
       "\n",
       "  original_language original_title  ...     revenue  runtime  \\\n",
       "0                en   The Avengers  ...  1518815515      143   \n",
       "1                en   The Avengers  ...  1518815515      143   \n",
       "2                en   The Notebook  ...   115603229      123   \n",
       "\n",
       "                                    spoken_languages    status  \\\n",
       "0  [{'english_name': 'English', 'iso_639_1': 'en'...  Released   \n",
       "1  [{'english_name': 'English', 'iso_639_1': 'en'...  Released   \n",
       "2  [{'english_name': 'English', 'iso_639_1': 'en'...  Released   \n",
       "\n",
       "                                     tagline         title  video  \\\n",
       "0                    Some assembly required.  The Avengers  False   \n",
       "1                    Some assembly required.  The Avengers  False   \n",
       "2  Behind every great love is a great story.  The Notebook  False   \n",
       "\n",
       "   vote_average vote_count certification  \n",
       "0         7.707      28646         PG-13  \n",
       "1         7.707      28646         PG-13  \n",
       "2         7.878      10348         PG-13  \n",
       "\n",
       "[3 rows x 26 columns]"
      ]
     },
     "execution_count": 34,
     "metadata": {},
     "output_type": "execute_result"
    }
   ],
   "source": [
    "## testing our function by looping through a list of ids\n",
    "test_ids = [\"tt0848228\", \"tt0115937\",\"tt0848228\",\"tt0332280\"]\n",
    "results = [] \n",
    "errors = [] \n",
    "for movie_id in test_ids:\n",
    "\n",
    "    # Track results\n",
    "    try:\n",
    "        movie_info = get_movie_with_rating(movie_id)\n",
    "        results.append(movie_info)\n",
    "\n",
    "    # Track errors    \n",
    "    except Exception as e: \n",
    "        errors.append([movie_id, e])\n",
    "    \n",
    "pd.DataFrame(results)"
   ]
  },
  {
   "cell_type": "code",
   "execution_count": 35,
   "id": "fe92cc50",
   "metadata": {},
   "outputs": [
    {
     "name": "stdout",
     "output_type": "stream",
     "text": [
      "- Number of errors: 1\n"
     ]
    },
    {
     "data": {
      "text/plain": [
       "[['tt0115937',\n",
       "  requests.exceptions.HTTPError('404 Client Error: Not Found for url: https://api.themoviedb.org/3/movie/tt0115937?api_key=b25c72a0887d8e5e28603f6accda6e9f')]]"
      ]
     },
     "execution_count": 35,
     "metadata": {},
     "output_type": "execute_result"
    }
   ],
   "source": [
    "print(f\"- Number of errors: {len(errors)}\")\n",
    "errors"
   ]
  },
  {
   "cell_type": "markdown",
   "id": "3f113d35",
   "metadata": {},
   "source": [
    "## Verify Data folder creation and verify contents "
   ]
  },
  {
   "cell_type": "code",
   "execution_count": 36,
   "id": "b6c208f8",
   "metadata": {},
   "outputs": [
    {
     "data": {
      "text/plain": [
       "['.DS_Store',\n",
       " 'title_basics.csv.gz',\n",
       " 'title_akas.csv.gz',\n",
       " 'title_ratings.csv.gz']"
      ]
     },
     "execution_count": 36,
     "metadata": {},
     "output_type": "execute_result"
    }
   ],
   "source": [
    "import os, time,json\n",
    "import tmdbsimple as tmdb \n",
    "FOLDER = \"Data/\"\n",
    "os.makedirs(FOLDER, exist_ok=True)\n",
    "os.listdir(FOLDER)"
   ]
  },
  {
   "cell_type": "code",
   "execution_count": 37,
   "id": "2495d7a6",
   "metadata": {},
   "outputs": [
    {
     "data": {
      "text/html": [
       "<div>\n",
       "<style scoped>\n",
       "    .dataframe tbody tr th:only-of-type {\n",
       "        vertical-align: middle;\n",
       "    }\n",
       "\n",
       "    .dataframe tbody tr th {\n",
       "        vertical-align: top;\n",
       "    }\n",
       "\n",
       "    .dataframe thead th {\n",
       "        text-align: right;\n",
       "    }\n",
       "</style>\n",
       "<table border=\"1\" class=\"dataframe\">\n",
       "  <thead>\n",
       "    <tr style=\"text-align: right;\">\n",
       "      <th></th>\n",
       "      <th>tconst</th>\n",
       "      <th>titleType</th>\n",
       "      <th>primaryTitle</th>\n",
       "      <th>originalTitle</th>\n",
       "      <th>isAdult</th>\n",
       "      <th>startYear</th>\n",
       "      <th>endYear</th>\n",
       "      <th>runtimeMinutes</th>\n",
       "      <th>genres</th>\n",
       "    </tr>\n",
       "  </thead>\n",
       "  <tbody>\n",
       "    <tr>\n",
       "      <th>0</th>\n",
       "      <td>tt0035423</td>\n",
       "      <td>movie</td>\n",
       "      <td>Kate &amp; Leopold</td>\n",
       "      <td>Kate &amp; Leopold</td>\n",
       "      <td>0</td>\n",
       "      <td>2001</td>\n",
       "      <td>NaN</td>\n",
       "      <td>118</td>\n",
       "      <td>Comedy,Fantasy,Romance</td>\n",
       "    </tr>\n",
       "    <tr>\n",
       "      <th>1</th>\n",
       "      <td>tt0043139</td>\n",
       "      <td>movie</td>\n",
       "      <td>Life of a Beijing Policeman</td>\n",
       "      <td>Wo zhe yi bei zi</td>\n",
       "      <td>0</td>\n",
       "      <td>2013</td>\n",
       "      <td>NaN</td>\n",
       "      <td>120</td>\n",
       "      <td>Drama,History</td>\n",
       "    </tr>\n",
       "    <tr>\n",
       "      <th>2</th>\n",
       "      <td>tt0062336</td>\n",
       "      <td>movie</td>\n",
       "      <td>The Tango of the Widower and Its Distorting Mi...</td>\n",
       "      <td>El tango del viudo y su espejo deformante</td>\n",
       "      <td>0</td>\n",
       "      <td>2020</td>\n",
       "      <td>NaN</td>\n",
       "      <td>70</td>\n",
       "      <td>Drama</td>\n",
       "    </tr>\n",
       "    <tr>\n",
       "      <th>3</th>\n",
       "      <td>tt0069049</td>\n",
       "      <td>movie</td>\n",
       "      <td>The Other Side of the Wind</td>\n",
       "      <td>The Other Side of the Wind</td>\n",
       "      <td>0</td>\n",
       "      <td>2018</td>\n",
       "      <td>NaN</td>\n",
       "      <td>122</td>\n",
       "      <td>Drama</td>\n",
       "    </tr>\n",
       "    <tr>\n",
       "      <th>4</th>\n",
       "      <td>tt0088751</td>\n",
       "      <td>movie</td>\n",
       "      <td>The Naked Monster</td>\n",
       "      <td>The Naked Monster</td>\n",
       "      <td>0</td>\n",
       "      <td>2005</td>\n",
       "      <td>NaN</td>\n",
       "      <td>100</td>\n",
       "      <td>Comedy,Horror,Sci-Fi</td>\n",
       "    </tr>\n",
       "    <tr>\n",
       "      <th>...</th>\n",
       "      <td>...</td>\n",
       "      <td>...</td>\n",
       "      <td>...</td>\n",
       "      <td>...</td>\n",
       "      <td>...</td>\n",
       "      <td>...</td>\n",
       "      <td>...</td>\n",
       "      <td>...</td>\n",
       "      <td>...</td>\n",
       "    </tr>\n",
       "    <tr>\n",
       "      <th>86785</th>\n",
       "      <td>tt9914942</td>\n",
       "      <td>movie</td>\n",
       "      <td>Life Without Sara Amat</td>\n",
       "      <td>La vida sense la Sara Amat</td>\n",
       "      <td>0</td>\n",
       "      <td>2019</td>\n",
       "      <td>NaN</td>\n",
       "      <td>74</td>\n",
       "      <td>Drama</td>\n",
       "    </tr>\n",
       "    <tr>\n",
       "      <th>86786</th>\n",
       "      <td>tt9915872</td>\n",
       "      <td>movie</td>\n",
       "      <td>The Last White Witch</td>\n",
       "      <td>My Girlfriend is a Wizard</td>\n",
       "      <td>0</td>\n",
       "      <td>2019</td>\n",
       "      <td>NaN</td>\n",
       "      <td>97</td>\n",
       "      <td>Comedy,Drama,Fantasy</td>\n",
       "    </tr>\n",
       "    <tr>\n",
       "      <th>86787</th>\n",
       "      <td>tt9916170</td>\n",
       "      <td>movie</td>\n",
       "      <td>The Rehearsal</td>\n",
       "      <td>O Ensaio</td>\n",
       "      <td>0</td>\n",
       "      <td>2019</td>\n",
       "      <td>NaN</td>\n",
       "      <td>51</td>\n",
       "      <td>Drama</td>\n",
       "    </tr>\n",
       "    <tr>\n",
       "      <th>86788</th>\n",
       "      <td>tt9916190</td>\n",
       "      <td>movie</td>\n",
       "      <td>Safeguard</td>\n",
       "      <td>Safeguard</td>\n",
       "      <td>0</td>\n",
       "      <td>2020</td>\n",
       "      <td>NaN</td>\n",
       "      <td>95</td>\n",
       "      <td>Action,Adventure,Thriller</td>\n",
       "    </tr>\n",
       "    <tr>\n",
       "      <th>86789</th>\n",
       "      <td>tt9916362</td>\n",
       "      <td>movie</td>\n",
       "      <td>Coven</td>\n",
       "      <td>Akelarre</td>\n",
       "      <td>0</td>\n",
       "      <td>2020</td>\n",
       "      <td>NaN</td>\n",
       "      <td>92</td>\n",
       "      <td>Drama,History</td>\n",
       "    </tr>\n",
       "  </tbody>\n",
       "</table>\n",
       "<p>86790 rows × 9 columns</p>\n",
       "</div>"
      ],
      "text/plain": [
       "          tconst titleType                                       primaryTitle  \\\n",
       "0      tt0035423     movie                                     Kate & Leopold   \n",
       "1      tt0043139     movie                        Life of a Beijing Policeman   \n",
       "2      tt0062336     movie  The Tango of the Widower and Its Distorting Mi...   \n",
       "3      tt0069049     movie                         The Other Side of the Wind   \n",
       "4      tt0088751     movie                                  The Naked Monster   \n",
       "...          ...       ...                                                ...   \n",
       "86785  tt9914942     movie                             Life Without Sara Amat   \n",
       "86786  tt9915872     movie                               The Last White Witch   \n",
       "86787  tt9916170     movie                                      The Rehearsal   \n",
       "86788  tt9916190     movie                                          Safeguard   \n",
       "86789  tt9916362     movie                                              Coven   \n",
       "\n",
       "                                   originalTitle  isAdult  startYear  endYear  \\\n",
       "0                                 Kate & Leopold        0       2001      NaN   \n",
       "1                               Wo zhe yi bei zi        0       2013      NaN   \n",
       "2      El tango del viudo y su espejo deformante        0       2020      NaN   \n",
       "3                     The Other Side of the Wind        0       2018      NaN   \n",
       "4                              The Naked Monster        0       2005      NaN   \n",
       "...                                          ...      ...        ...      ...   \n",
       "86785                 La vida sense la Sara Amat        0       2019      NaN   \n",
       "86786                  My Girlfriend is a Wizard        0       2019      NaN   \n",
       "86787                                   O Ensaio        0       2019      NaN   \n",
       "86788                                  Safeguard        0       2020      NaN   \n",
       "86789                                   Akelarre        0       2020      NaN   \n",
       "\n",
       "       runtimeMinutes                     genres  \n",
       "0                 118     Comedy,Fantasy,Romance  \n",
       "1                 120              Drama,History  \n",
       "2                  70                      Drama  \n",
       "3                 122                      Drama  \n",
       "4                 100       Comedy,Horror,Sci-Fi  \n",
       "...               ...                        ...  \n",
       "86785              74                      Drama  \n",
       "86786              97       Comedy,Drama,Fantasy  \n",
       "86787              51                      Drama  \n",
       "86788              95  Action,Adventure,Thriller  \n",
       "86789              92              Drama,History  \n",
       "\n",
       "[86790 rows x 9 columns]"
      ]
     },
     "execution_count": 37,
     "metadata": {},
     "output_type": "execute_result"
    }
   ],
   "source": [
    "# Load in the dataframe from project part 1 as basics:\n",
    "basics = pd.read_csv('/Users/jasontracey/Documents/GitHub/Project-3-Part-1/Data/title_basics.csv.gz')\n",
    "basics"
   ]
  },
  {
   "cell_type": "code",
   "execution_count": 38,
   "id": "017c3974",
   "metadata": {},
   "outputs": [],
   "source": [
    "YEARS_TO_GET = [2000, 2001]\n",
    "errors = [ ]"
   ]
  },
  {
   "cell_type": "code",
   "execution_count": 39,
   "id": "22be0425",
   "metadata": {},
   "outputs": [
    {
     "data": {
      "application/vnd.jupyter.widget-view+json": {
       "model_id": "06a98926276b4457adf88d665bcbecd9",
       "version_major": 2,
       "version_minor": 0
      },
      "text/plain": [
       "YEARS:   0%|          | 0/2 [00:00<?, ?it/s]"
      ]
     },
     "metadata": {},
     "output_type": "display_data"
    },
    {
     "data": {
      "application/vnd.jupyter.widget-view+json": {
       "model_id": "d8d247de9f014942b089e05c0375c15f",
       "version_major": 2,
       "version_minor": 0
      },
      "text/plain": [
       "Movies from 2000:   0%|          | 0/1447 [00:00<?, ?it/s]"
      ]
     },
     "metadata": {},
     "output_type": "display_data"
    },
    {
     "data": {
      "application/vnd.jupyter.widget-view+json": {
       "model_id": "b669681b12f34dc3899cb3b548994d8b",
       "version_major": 2,
       "version_minor": 0
      },
      "text/plain": [
       "Movies from 2001:   0%|          | 0/1568 [00:00<?, ?it/s]"
      ]
     },
     "metadata": {},
     "output_type": "display_data"
    }
   ],
   "source": [
    "# Start of OUTER loop\n",
    "for YEAR in tqdm_notebook(YEARS_TO_GET, desc='YEARS', position=0):\n",
    "    \n",
    "    JSON_FILE = f'{FOLDER}tmdb_api_results_{YEAR}.json' #JSON file to store results\n",
    "    file_exists = os.path.isfile(JSON_FILE) # Check if file exists\n",
    "\n",
    "    # If it does not exist: create it\n",
    "    if file_exists == False:\n",
    "\n",
    "        # save an empty dict with just \"imdb_id\" to the new json file.\n",
    "        with open(JSON_FILE,'w') as f:\n",
    "            json.dump([{'imdb_id':0}],f)\n",
    "\n",
    "    #Saving new year as the current df\n",
    "    df = basics.loc[ basics['startYear']==YEAR].copy()\n",
    "    \n",
    "    # saving movie ids to list\n",
    "    movie_ids = df['tconst'].copy()\n",
    "\n",
    "    # Load existing data from json into a dataframe called \"previous_df\"\n",
    "    previous_df = pd.read_json(JSON_FILE)\n",
    "\n",
    "    # filter out any ids that are already in the JSON_FILE\n",
    "    movie_ids_to_get = movie_ids[~movie_ids.isin(previous_df['imdb_id'])]\n",
    "    \n",
    "    #Get index and movie id from list\n",
    "    # INNER Loop\n",
    "    for movie_id in tqdm_notebook(movie_ids_to_get,\n",
    "                                  desc=f'Movies from {YEAR}',\n",
    "                                  position=1,\n",
    "                                  leave=True):\n",
    "        try:\n",
    "            # Retrieve then data for the movie id\n",
    "            temp = get_movie_with_rating(movie_id)  \n",
    "            # Append/extend results to existing file using a pre-made function\n",
    "            write_json(temp,JSON_FILE)\n",
    "            # Short 20 ms sleep to prevent overwhelming server\n",
    "            time.sleep(0.02)\n",
    "\n",
    "        except Exception as e:\n",
    "            errors.append([movie_id, e])\n",
    "            \n",
    "    final_year_df = pd.read_json(JSON_FILE)\n",
    "    final_year_df.to_csv(f\"{FOLDER}final_tmdb_data_{YEAR}.csv.gz\",\n",
    "                         compression=\"gzip\", index=False)"
   ]
  },
  {
   "cell_type": "code",
   "execution_count": 40,
   "id": "65770a5b",
   "metadata": {},
   "outputs": [
    {
     "name": "stdout",
     "output_type": "stream",
     "text": [
      "- Total errors: 444\n"
     ]
    }
   ],
   "source": [
    "print(f\"- Total errors: {len(errors)}\")"
   ]
  }
 ],
 "metadata": {
  "kernelspec": {
   "display_name": "Python (dojo-env)",
   "language": "python",
   "name": "dojo-env"
  },
  "language_info": {
   "codemirror_mode": {
    "name": "ipython",
    "version": 3
   },
   "file_extension": ".py",
   "mimetype": "text/x-python",
   "name": "python",
   "nbconvert_exporter": "python",
   "pygments_lexer": "ipython3",
   "version": "3.9.15"
  },
  "toc": {
   "base_numbering": 1,
   "nav_menu": {},
   "number_sections": false,
   "sideBar": true,
   "skip_h1_title": false,
   "title_cell": "Table of Contents",
   "title_sidebar": "Contents",
   "toc_cell": false,
   "toc_position": {
    "height": "calc(100% - 180px)",
    "left": "10px",
    "top": "150px",
    "width": "330.594px"
   },
   "toc_section_display": true,
   "toc_window_display": true
  }
 },
 "nbformat": 4,
 "nbformat_minor": 5
}
